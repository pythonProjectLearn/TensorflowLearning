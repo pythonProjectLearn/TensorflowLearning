{
 "cells": [
  {
   "cell_type": "markdown",
   "metadata": {},
   "source": [
    "# Ch `11`: Concept `01`\n",
    "\n",
    "## Multi RNN"
   ]
  },
  {
   "cell_type": "markdown",
   "metadata": {},
   "source": [
    "All we need is TensorFlow:"
   ]
  },
  {
   "cell_type": "code",
   "execution_count": 1,
   "metadata": {
    "collapsed": true
   },
   "outputs": [],
   "source": [
    "import tensorflow as tf"
   ]
  },
  {
   "cell_type": "markdown",
   "metadata": {},
   "source": [
    "First, define the constants. \n",
    "\n",
    "Let's say we're dealing with 1-dimensional vectors, and a maximum sequence size of 3."
   ]
  },
  {
   "cell_type": "code",
   "execution_count": 2,
   "metadata": {
    "collapsed": true
   },
   "outputs": [],
   "source": [
    "input_dim = 1\n",
    "seq_size = 3"
   ]
  },
  {
   "cell_type": "markdown",
   "metadata": {},
   "source": [
    "Next up, define the placeholder(s). \n",
    "\n",
    "We only need one for this simple example: the input placeholder.\n",
    "\n",
    "创建placeholder"
   ]
  },
  {
   "cell_type": "code",
   "execution_count": 3,
   "metadata": {},
   "outputs": [],
   "source": [
    "input_placeholder = tf.placeholder(dtype=tf.float32, shape=[None, seq_size, input_dim])"
   ]
  },
  {
   "cell_type": "markdown",
   "metadata": {},
   "source": [
    "Now let's make a helper function to create LSTM cells\n",
    "\n",
    "构造Lstm cell"
   ]
  },
  {
   "cell_type": "code",
   "execution_count": 4,
   "metadata": {
    "collapsed": true
   },
   "outputs": [],
   "source": [
    "def make_cell(state_dim):\n",
    "    return tf.contrib.rnn.LSTMCell(state_dim)"
   ]
  },
  {
   "cell_type": "markdown",
   "metadata": {},
   "source": [
    "Call the function and extract the cell outputs.\n",
    "\n",
    "1、 LSTM堆积在一起，构造多层LSTM"
   ]
  },
  {
   "cell_type": "code",
   "execution_count": 5,
   "metadata": {},
   "outputs": [],
   "source": [
    "with tf.variable_scope(\"first_cell\") as scope:\n",
    "    cell = make_cell(state_dim=10)\n",
    "    outputs, states = tf.nn.dynamic_rnn(cell, input_placeholder, dtype=tf.float32)"
   ]
  },
  {
   "cell_type": "markdown",
   "metadata": {},
   "source": [
    "You know what? We can just keep stacking cells on top of each other. In a new variable scope, you can pipe the output of the previous cell to the input of the new cell. Check it out:"
   ]
  },
  {
   "cell_type": "code",
   "execution_count": 6,
   "metadata": {
    "collapsed": true
   },
   "outputs": [],
   "source": [
    "with tf.variable_scope(\"second_cell\") as scope:\n",
    "    cell2 = make_cell(state_dim=10)\n",
    "    outputs2, states2 = tf.nn.dynamic_rnn(cell2, outputs, dtype=tf.float32)"
   ]
  },
  {
   "cell_type": "markdown",
   "metadata": {},
   "source": [
    "What if we wanted 5 layers of RNNs? \n",
    "\n",
    "There's a useful shortcut that the TensorFlow library supplies, called `MultiRNNCell`. Here's a helper function to use it:\n",
    "\n",
    "2、 一次性构造多层LSTM"
   ]
  },
  {
   "cell_type": "code",
   "execution_count": 8,
   "metadata": {
    "collapsed": true
   },
   "outputs": [],
   "source": [
    "def make_multi_cell(state_dim, num_layers):\n",
    "    cells = [make_cell(state_dim) for _ in range(num_layers)]\n",
    "    return tf.contrib.rnn.MultiRNNCell(cells)"
   ]
  },
  {
   "cell_type": "markdown",
   "metadata": {},
   "source": [
    "Here's the helper function in action:"
   ]
  },
  {
   "cell_type": "code",
   "execution_count": 9,
   "metadata": {},
   "outputs": [],
   "source": [
    "multi_cell = make_multi_cell(state_dim=10, num_layers=5)\n",
    "outputs5, states5 = tf.nn.dynamic_rnn(multi_cell, input_placeholder, dtype=tf.float32)"
   ]
  },
  {
   "cell_type": "markdown",
   "metadata": {},
   "source": [
    "Before starting a session, let's prepare some simple input to the network.\n",
    "\n",
    "训练模型"
   ]
  },
  {
   "cell_type": "code",
   "execution_count": 10,
   "metadata": {},
   "outputs": [],
   "source": [
    "input_seq = [[1], [2], [3]]"
   ]
  },
  {
   "cell_type": "markdown",
   "metadata": {},
   "source": [
    "Start the session, and initialize variables."
   ]
  },
  {
   "cell_type": "code",
   "execution_count": 11,
   "metadata": {
    "collapsed": true
   },
   "outputs": [],
   "source": [
    "init_op = tf.global_variables_initializer()\n",
    "\n",
    "sess = tf.InteractiveSession()\n",
    "sess.run(init_op)"
   ]
  },
  {
   "cell_type": "markdown",
   "metadata": {},
   "source": [
    "We can run the outputs to verify that the code is sound."
   ]
  },
  {
   "cell_type": "code",
   "execution_count": 12,
   "metadata": {},
   "outputs": [
    {
     "name": "stdout",
     "output_type": "stream",
     "text": [
      "[[[ 0.04565362 -0.02111018  0.00943931 -0.02890949  0.02353027 -0.07796901\n",
      "    0.04569415 -0.00422793 -0.05205594  0.02865916]\n",
      "  [ 0.10853661 -0.06479551  0.0178942  -0.07640032  0.05208643 -0.19509149\n",
      "    0.08690087 -0.01186553 -0.14576697  0.0796235 ]\n",
      "  [ 0.16930018 -0.12774967  0.02357387 -0.13736473  0.07771346 -0.30416703\n",
      "    0.1011389  -0.01961475 -0.26182392  0.13400772]]]\n",
      "[[[ 0.00877748  0.0036222   0.00051987 -0.01005535  0.00381236 -0.00712926\n",
      "   -0.00404523 -0.01210839  0.01179848 -0.0004949 ]\n",
      "  [ 0.02725317  0.01264807  0.00164001 -0.03059983  0.01529867 -0.02063793\n",
      "   -0.01708099 -0.03790737  0.03866576 -0.00018147]\n",
      "  [ 0.05122671  0.02603612  0.00436753 -0.05657636  0.03609543 -0.03538236\n",
      "   -0.04079114 -0.0710327   0.07716534  0.00217945]]]\n",
      "[[[ -4.57763645e-06   2.07890225e-05  -8.62103116e-06  -8.62272191e-06\n",
      "     7.91534603e-07  -4.02755832e-05  -1.34765296e-05   2.37038912e-05\n",
      "    -3.26332702e-05   2.98559316e-05]\n",
      "  [ -2.76260434e-05   1.18018586e-04  -5.95373604e-05  -4.54925794e-05\n",
      "    -6.68426037e-06  -2.37014930e-04  -8.74454781e-05   1.54022156e-04\n",
      "    -1.86581135e-04   1.82786025e-04]\n",
      "  [ -9.30878959e-05   3.75834148e-04  -2.24114876e-04  -1.30631466e-04\n",
      "    -5.88835319e-05  -7.86564313e-04  -3.13223311e-04   5.54551429e-04\n",
      "    -5.96420083e-04   6.23238506e-04]]]\n"
     ]
    }
   ],
   "source": [
    "outputs_val, outputs2_val, outputs5_val = sess.run([outputs, outputs2, outputs5], \n",
    "                                                   feed_dict={input_placeholder: [input_seq]})\n",
    "print(outputs_val)\n",
    "print(outputs2_val)\n",
    "print(outputs5_val)"
   ]
  },
  {
   "cell_type": "code",
   "execution_count": null,
   "metadata": {
    "collapsed": true
   },
   "outputs": [],
   "source": []
  }
 ],
 "metadata": {
  "kernelspec": {
   "display_name": "Python 2",
   "language": "python",
   "name": "python2"
  },
  "language_info": {
   "codemirror_mode": {
    "name": "ipython",
    "version": 2
   },
   "file_extension": ".py",
   "mimetype": "text/x-python",
   "name": "python",
   "nbconvert_exporter": "python",
   "pygments_lexer": "ipython2",
   "version": "2.7.13"
  }
 },
 "nbformat": 4,
 "nbformat_minor": 1
}
