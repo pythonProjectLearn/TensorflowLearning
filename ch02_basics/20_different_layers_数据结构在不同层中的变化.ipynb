{
 "cells": [
  {
   "cell_type": "markdown",
   "metadata": {},
   "source": [
    "# Implementing Different Layers\n",
    "\n",
    "\n",
    "We will illustrate how to use different types of layers in TensorFlow\n",
    "\n",
    "下面介绍不同层的使用\n",
    "\n",
    "The layers of interest are:\n",
    "1. Convolutional Layer\n",
    "2. Activation Layer \n",
    "3. Max-Pool Layer\n",
    "4. Fully Connected Layer\n",
    "\n",
    "We will generate two different data sets for this script, a 1-D data set (row of data) and a 2-D data set (similar to picture)"
   ]
  },
  {
   "cell_type": "markdown",
   "metadata": {},
   "source": [
    "# 拼接\n",
    "\n",
    "在2D图上，0轴相当于x轴，1轴相当于y轴；0轴拼接，就是0轴与0轴粘在一起；1轴拼接，就是1轴与1轴粘在一起\n",
    "\n",
    "在3D图上，0轴是x轴（长），1轴是y轴（宽），2轴是z轴（高）\n",
    "\n",
    "TensorFlow提供两种类型的拼接：\n",
    "\n",
    "    tf.concat(values, axis, name='concat')：按照指定的已经存在的轴进行拼接\n",
    "\n",
    "    tf.stack(values, axis=0, name='stack')：按照指定的新建的轴进行拼接\n",
    "\n",
    "t1 = [[1, 2, 3], [4, 5, 6]]\n",
    "\n",
    "t2 = [[7, 8, 9], [10, 11, 12]]\n",
    "\n",
    "1. tf.concat([t1, t2], 0) ==> \n",
    "\n",
    "    [[1, 2, 3], \n",
    "    \n",
    "     [4, 5, 6], \n",
    "     \n",
    "     [7, 8, 9], \n",
    "     \n",
    "     [10, 11, 12]]\n",
    "\n",
    "2. tf.concat([t1, t2], 1) ==> \n",
    "\n",
    "    [[1, 2, 3, 7, 8, 9], \n",
    "\n",
    "      [4, 5, 6, 10, 11, 12]]\n",
    "\n",
    "\n",
    "\n",
    "3. tf.stack([t1, t2], 0)  ==> \n",
    "\n",
    "   在0轴上拼接，先在t1 t2上建立0轴，0轴的长度为1, \n",
    "\n",
    "   [[[1, 2, 3], \n",
    "   \n",
    "     [4, 5, 6]], \n",
    "     \n",
    "    [[7, 8, 9], \n",
    "    \n",
    "     [10, 11, 12]]]\n",
    "\n",
    "4. tf.stack([t1, t2], 1)  ==> \n",
    "\n",
    "    [[[1, 2, 3], \n",
    "      [7, 8, 9]], \n",
    "      \n",
    "     [[4, 5, 6], \n",
    "     [10, 11, 12]]]\n",
    "\n",
    "5. tf.stack([t1, t2], 2)  ==> \n",
    "    [[[1, 7],     \n",
    "    \n",
    "      [2, 8], \n",
    "      \n",
    "      [3, 9]], \n",
    "    \n",
    "    [[4, 10], \n",
    "    \n",
    "     [5, 11], \n",
    "     \n",
    "     [6, 12]]]\n",
    "\n",
    "我们从shape角度看一下就很容易明白了\n",
    "\n",
    "t1 = [[1, 2, 3], [4, 5, 6]]\n",
    "\n",
    "t2 = [[7, 8, 9], [10, 11, 12]]\n",
    "\n",
    "tf.concat([t1, t2], 0)  # [2,3] + [2,3] ==> [4, 3]\n",
    "\n",
    "tf.concat([t1, t2], 1)  # [2,3] + [2,3] ==> [2, 6]\n",
    "\n",
    "tf.stack([t1, t2], 0)   # [2,3] + [2,3] ==> [2*,2,3] # 新建轴0，在轴0上拼接\n",
    "\n",
    "tf.stack([t1, t2], 1)   # [2,3] + [2,3] ==> [2,2*,3]\n",
    "\n",
    "tf.stack([t1, t2], 2)   # [2,3] + [2,3] ==> [2,3,2*]"
   ]
  },
  {
   "cell_type": "markdown",
   "metadata": {},
   "source": [
    "# 抽取\n",
    "\n",
    "\n",
    "\n",
    "    tf.slice(input_, begin, size, name=None)：按照指定的下标范围抽取连续区域的子集\n",
    "\n",
    "    tf.gather(params, indices, validate_indices=None, name=None)：按照指定的下标集合从axis=0中抽取子集，适合抽取不连续区域的子集\n",
    "\n",
    "input = [\n",
    "         \n",
    "         [[1, 1, 1], [2, 2, 2]],\n",
    "\n",
    "         [[3, 3, 3], [4, 4, 4]],\n",
    "         \n",
    "         [[5, 5, 5], [6, 6, 6]]\n",
    "       \n",
    "       ]\n",
    "         \n",
    "tf.slice(input, [1, 0, 0], [1, 1, 3]) ==> [[[3, 3, 3]]]\n",
    "\n",
    "tf.slice(input, [1, 0, 0], [1, 2, 3]) ==> [[[3, 3, 3],\n",
    "                                            [4, 4, 4]]]\n",
    "                                            \n",
    "tf.slice(input, [1, 0, 0], [2, 1, 3]) ==> [[[3, 3, 3]],\n",
    "                                           [[5, 5, 5]]]\n",
    "                                           \n",
    "tf.gather(input, [0, 2]) ==> [[[1, 1, 1], [2, 2, 2]],\n",
    "                              [[5, 5, 5], [6, 6, 6]]]\n",
    "                              \n",
    "假设我们要从input中抽取[[[3, 3, 3]]]，这个输出在inputaxis=0的下标是1，axis=1的下标是0，axis=2的下标是0-2，所以begin=[1,0,0]，size=[1,1,3]。\n",
    "\n",
    "假设我们要从input中抽取[[[3, 3, 3], [4, 4, 4]]]，这个输出在inputaxis=0的下标是1，axis=1的下标是0-1，axis=2的下标是0-2，所以begin=[1,0,0]，size=[1,2,3]。\n",
    "\n",
    "假设我们要从input中抽取[[[3, 3, 3], [5, 5, 5]]]，这个输出在inputaxis=0的下标是1-2，axis=1的下标是0，axis=2的下标是0-2，所以begin=[1,0,0]，size=[2,1,3]。\n",
    "\n",
    "假设我们要从input中抽取[[[1, 1, 1], [2, 2, 2]],[[5, 5, 5], [6, 6, 6]]]，这个输出在input的axis=0的下标是[0, 2]，不连续，可以用tf.gather抽取。                              "
   ]
  },
  {
   "cell_type": "markdown",
   "metadata": {},
   "source": [
    "# 类型转化\n",
    "\n",
    "    tf.string_to_number(string_tensor, out_type=None, name=None): 将字符串转化为tf.float32（默认）和tf.int32\n",
    "\n",
    "    tf.to_double(x, name='ToDouble')：转化为tf.float64\n",
    "\n",
    "    tf.to_float(x, name='ToFloat')：转化为tf.float32\n",
    "\n",
    "    tf.to_int32(x, name='ToInt32')：转化为tf.int32\n",
    "\n",
    "    tf.to_int64(x, name='ToInt64')：转化为tf.int64\n",
    "\n",
    "    tf.cast(x, dtype, name=None)：转化为dtype指定的类型\n"
   ]
  },
  {
   "cell_type": "markdown",
   "metadata": {},
   "source": [
    "# 形状转化\n",
    "\n",
    "    tf.reshape(tensor, shape, name=None)：转化为新shape，若有一个维度设置为-1，会自动推导"
   ]
  },
  {
   "cell_type": "markdown",
   "metadata": {},
   "source": [
    "# SparseTensor\n",
    "\n",
    "TensorFlow使用三个dense tensor来表达一个sparse tensor：indices、values、dense_shape。\n",
    "\n",
    "假如我们有一个dense tensor：\n",
    "\n",
    " [[1, 0, 0, 0]\n",
    " [0, 0, 2, 0]\n",
    " [0, 0, 0, 0]]\n",
    "\n",
    "那么用SparseTensor表达这个数据对应的三个dense tensor如下：\n",
    "\n",
    "    indices：[[0, 0], [1, 2]]\n",
    "\n",
    "    values：[1, 2]\n",
    "\n",
    "    dense_shape：[3, 4]\n",
    "\n",
    "可以通过以下两种方法，将sparse tensor转化为dense tensor：\n",
    "\n",
    "    tf.sparse_to_dense(sparse_indices, output_shape, sparse_values, default_value=0, validate_indices=True, name=None)\n",
    "\n",
    "    tf.sparse_tensor_to_dense(sp_input, default_value=0, validate_indices=True, name=None)\n"
   ]
  },
  {
   "cell_type": "markdown",
   "metadata": {},
   "source": [
    "# 字符串操作\n",
    "\n",
    "拆分\n",
    "\n",
    "tf.string_split(source, delimiter=' ')\n",
    "\n",
    "source是一维数组，用于将一组字符串按照delimiter拆分为多个元素，返回值为一个SparseTensor。\n",
    "\n",
    "假如有两个字符串，source[0]是“hello world”，source[1]是“a b c”，那么输出结果如下：\n",
    "\n",
    "    st.indices： [0, 0; 0, 1; 1, 0; 1, 1; 1, 2]\n",
    "\n",
    "    st.values： ['hello', 'world', 'a', 'b', 'c']\n",
    "\n",
    "    st.dense_shape：[2, 3]\n",
    "\n",
    "拼接\n",
    "\n",
    "tf.string_join(inputs, separator=None, name=None)，用起来比较简单：\n",
    "\n",
    "tf.string_join([\"hello\", \"world\"], separator=\" \") ==> \"hello world\"\n"
   ]
  },
  {
   "cell_type": "markdown",
   "metadata": {},
   "source": [
    "# 自定义op函数\n",
    "通过tf.py_func(func, inp, Tout, stateful=True, name=None)可以将任意的python函数func转变为TensorFlow op。\n",
    "\n",
    "func接收的输入必须是numpy array，可以接受多个输入参数；输出也是numpy array，也可以有多个输出。inp传入输入值，Tout指定输出的基本数据类型。\n",
    "\n",
    "```\n",
    "import tensorflow as tf\n",
    "import numpy as np\n",
    "import json\n",
    "\n",
    "json_str_1 = '''\n",
    "    {\"name\": \"shuiping.chen\",\n",
    "    \"score\": 95,\n",
    "    \"department\": \"industrial engineering\",\n",
    "    \"rank\": 2\n",
    "    }\n",
    "'''\n",
    "json_str_2 = '''\n",
    "    {\"name\": \"zhuibing.dan\",\n",
    "    \"score\": 87,\n",
    "    \"department\": \"production engineering\",\n",
    "    \"rank\": 4\n",
    "    }\n",
    "'''\n",
    "\n",
    "input_array = np.array([json_str_1, json_str_2])\n",
    "\n",
    "def parse_json(json_str_array):\n",
    "    fea_dict_array = [ json.loads(item) for item in json_str_array ]\n",
    "    ret_feature = []\n",
    "    for fea_dict in fea_dict_array:\n",
    "        feature = [fea_dict[\"score\"], fea_dict[\"rank\"]]\n",
    "        ret_feature.append(feature)\n",
    "    return np.array(ret_feature, dtype=np.float32)\n",
    "\n",
    "parse_json_op = tf.py_func(parse_json, [input_array], tf.float32)\n",
    "sess = tf.Session()\n",
    "print sess.run(parse_json_op)\n",
    "\n",
    "```"
   ]
  },
  {
   "cell_type": "code",
   "execution_count": 2,
   "metadata": {
    "collapsed": true
   },
   "outputs": [],
   "source": [
    "import tensorflow as tf\n",
    "import matplotlib.pyplot as plt\n",
    "import csv\n",
    "import os\n",
    "import random\n",
    "import numpy as np\n",
    "import random\n",
    "from tensorflow.python.framework import ops\n"
   ]
  },
  {
   "cell_type": "markdown",
   "metadata": {},
   "source": [
    "# 1 1D数据在不同层中的使用\n",
    "```\n",
    "#---------------------------------------------------|\n",
    "#-------------------1D-data-------------------------|\n",
    "#---------------------------------------------------|\n",
    "```"
   ]
  },
  {
   "cell_type": "markdown",
   "metadata": {},
   "source": [
    "## 1.1 初始化网络"
   ]
  },
  {
   "cell_type": "code",
   "execution_count": 3,
   "metadata": {
    "collapsed": true
   },
   "outputs": [],
   "source": [
    "# Create graph session \n",
    "ops.reset_default_graph()\n",
    "sess = tf.Session()"
   ]
  },
  {
   "cell_type": "markdown",
   "metadata": {},
   "source": [
    "## 1.2 设置种子"
   ]
  },
  {
   "cell_type": "code",
   "execution_count": 4,
   "metadata": {
    "collapsed": true
   },
   "outputs": [],
   "source": [
    "# ensure reproducibility\n",
    "seed=13\n",
    "np.random.seed(seed)\n",
    "tf.set_random_seed(seed)"
   ]
  },
  {
   "cell_type": "markdown",
   "metadata": {},
   "source": [
    "## 1.3 设置模型中的固定参数\n",
    "\n",
    "1. 数据集的维度\n",
    "2. 卷积核的大小\n",
    "3. 池化的大小\n",
    "4. 移动窗口的尺度"
   ]
  },
  {
   "cell_type": "code",
   "execution_count": 5,
   "metadata": {
    "collapsed": true
   },
   "outputs": [],
   "source": [
    "# parameters for the run\n",
    "data_size = 25\n",
    "conv_size = 5\n",
    "maxpool_size = 5\n",
    "stride_size = 1"
   ]
  },
  {
   "cell_type": "markdown",
   "metadata": {},
   "source": [
    "## 1.4 构建数据和占位符"
   ]
  },
  {
   "cell_type": "code",
   "execution_count": 6,
   "metadata": {
    "collapsed": true
   },
   "outputs": [],
   "source": [
    "# Generate 1D data\n",
    "data_1d = np.random.normal(size=data_size)\n",
    "\n",
    "# Placeholder\n",
    "x_input_1d = tf.placeholder(dtype=tf.float32, shape=[data_size])"
   ]
  },
  {
   "cell_type": "markdown",
   "metadata": {},
   "source": [
    "## 1.5 构架卷积层\n",
    "\n",
    "因为tensorflow中的`conv2d()`是用于4D的数组，而创建的数据是1D的向量，所以要将1D扩展成4D才能使用这个函数"
   ]
  },
  {
   "cell_type": "code",
   "execution_count": 7,
   "metadata": {
    "collapsed": true
   },
   "outputs": [],
   "source": [
    "#--------Convolution--------\n",
    "def conv_layer_1d(input_1d, my_filter,stride):\n",
    "    # TensorFlow's 'conv2d()' function only works with 4D arrays:\n",
    "    # [batch#, width, height, channels], we have 1 batch, and\n",
    "    # width = 1, but height = the length of the input, and 1 channel.\n",
    "    # So next we create the 4D array by inserting dimension 1's.\n",
    "    # 将 1D扩展成4D\n",
    "    input_2d = tf.expand_dims(input_1d, 0)\n",
    "    input_3d = tf.expand_dims(input_2d, 0)\n",
    "    input_4d = tf.expand_dims(input_3d, 3)\n",
    "    # Perform convolution with stride = 1, if we wanted to increase the stride,\n",
    "    # to say '2', then strides=[1,1,2,1]\n",
    "    # 卷积运算\n",
    "    convolution_output = tf.nn.conv2d(input_4d, filter=my_filter, strides=[1,1,stride,1], padding=\"VALID\")\n",
    "    # 去掉为1的轴，变回1D，因为激活函数只能对1D的数据继续运算\n",
    "    conv_output_1d = tf.squeeze(convolution_output)\n",
    "    return(conv_output_1d)\n",
    "\n",
    "# 初始化一个卷积核\n",
    "my_filter = tf.Variable(tf.random_normal(shape=[1,conv_size,1,1]))\n",
    "# 将卷积核用于4D的数据\n",
    "my_convolution_output = conv_layer_1d(x_input_1d, my_filter,stride=stride_size)"
   ]
  },
  {
   "cell_type": "markdown",
   "metadata": {},
   "source": [
    "## 1.6 卷积之后接一个激活函数"
   ]
  },
  {
   "cell_type": "code",
   "execution_count": 9,
   "metadata": {
    "collapsed": true
   },
   "outputs": [],
   "source": [
    "#--------Activation--------\n",
    "# 激活函数relu只能对1D数据进行变换\n",
    "def activation(input_1d):\n",
    "    return(tf.nn.relu(input_1d))\n",
    "\n",
    "# Create activation layer\n",
    "my_activation_output = activation(my_convolution_output)"
   ]
  },
  {
   "cell_type": "markdown",
   "metadata": {},
   "source": [
    "## 1.7 激活之后最大池化，提取信息"
   ]
  },
  {
   "cell_type": "code",
   "execution_count": 14,
   "metadata": {
    "collapsed": true
   },
   "outputs": [],
   "source": [
    "#--------Max Pool--------\n",
    "# 因为池化也是对4D的数据做处理，所以经过激活层之后，又要把数据从1D变回4D\n",
    "def max_pool(input_1d, width,stride):\n",
    "    # Just like 'conv2d()' above, max_pool() works with 4D arrays.\n",
    "    # [batch_size=1, width=1, height=num_input, channels=1]\n",
    "    input_2d = tf.expand_dims(input_1d, 0)\n",
    "    input_3d = tf.expand_dims(input_2d, 0)\n",
    "    input_4d = tf.expand_dims(input_3d, 3)\n",
    "    # Perform the max pooling with strides = [1,1,1,1]\n",
    "    # If we wanted to increase the stride on our data dimension, say by\n",
    "    # a factor of '2', we put strides = [1, 1, 2, 1]\n",
    "    # We will also need to specify the width of the max-window ('width')\n",
    "    pool_output = tf.nn.max_pool(input_4d, ksize=[1, 1, width, 1],\n",
    "                                 strides=[1, 1, stride, 1],\n",
    "                                 padding='VALID')\n",
    "    # 再把数据降为1D\n",
    "    pool_output_1d = tf.squeeze(pool_output)\n",
    "    return(pool_output_1d)\n",
    "\n",
    "my_maxpool_output = max_pool(my_activation_output, width=maxpool_size,stride=stride_size)"
   ]
  },
  {
   "cell_type": "markdown",
   "metadata": {},
   "source": [
    "## 1.8 池化之后接上全连接层"
   ]
  },
  {
   "cell_type": "code",
   "execution_count": 15,
   "metadata": {
    "collapsed": true
   },
   "outputs": [],
   "source": [
    "#--------Fully Connected--------\n",
    "def fully_connected(input_layer, num_outputs):\n",
    "    # First we find the needed shape of the multiplication weight matrix:\n",
    "    # The dimension will be (length of input) by (num_outputs)\n",
    "    # weight_shape是为了获得连接层的权重矩阵的shape\n",
    "    weight_shape = tf.squeeze(tf.stack([tf.shape(input_layer),[num_outputs]]))\n",
    "    # Initialize such weight\n",
    "    weight = tf.random_normal(weight_shape, stddev=0.1)\n",
    "    # Initialize the bias\n",
    "    bias = tf.random_normal(shape=[num_outputs])\n",
    "    # Make the 1D input array into a 2D array for matrix multiplication\n",
    "    input_layer_2d = tf.expand_dims(input_layer, 0)\n",
    "    # Perform the matrix multiplication and add the bias\n",
    "    full_output = tf.add(tf.matmul(input_layer_2d, weight), bias)\n",
    "    # Get rid of extra dimensionsnum_outputs\n",
    "    full_output_1d = tf.squeeze(full_output)\n",
    "    return(full_output_1d)\n",
    "\n",
    "my_full_output = fully_connected(my_maxpool_output, 5)"
   ]
  },
  {
   "cell_type": "code",
   "execution_count": 3,
   "metadata": {},
   "outputs": [
    {
     "name": "stdout",
     "output_type": "stream",
     "text": [
      ">>>> 1D Data <<<<\n",
      "Input = array of length 25\n",
      "Convolution w/ filter, length = 5, stride size = 1, results in an array of length 21:\n",
      "[-2.63576341 -1.11550486 -0.95571411 -1.69670296 -0.35699379  0.62266493\n",
      "  4.43316031  2.01364899  1.33044648 -2.30629659 -0.82916248 -2.63594174\n",
      "  0.76669347 -2.46465087 -2.2855041   1.49780679  1.6960566   1.48557389\n",
      " -2.79799461  1.18149185  1.42146575]\n",
      "\n",
      "Input = above array of length 21\n",
      "ReLU element wise returns an array of length 21:\n",
      "[ 0.          0.          0.          0.          0.          0.62266493\n",
      "  4.43316031  2.01364899  1.33044648  0.          0.          0.\n",
      "  0.76669347  0.          0.          1.49780679  1.6960566   1.48557389\n",
      "  0.          1.18149185  1.42146575]\n",
      "\n",
      "Input = above array of length 21\n",
      "MaxPool, window length = 5, stride size = 1, results in the array of length 17\n",
      "[ 0.          0.62266493  4.43316031  4.43316031  4.43316031  4.43316031\n",
      "  4.43316031  2.01364899  1.33044648  0.76669347  0.76669347  1.49780679\n",
      "  1.6960566   1.6960566   1.6960566   1.6960566   1.6960566 ]\n",
      "\n",
      "Input = above array of length 17\n",
      "Fully connected layer on all 4 rows with 5 outputs:\n",
      "[ 1.71536076 -0.72340977 -1.22485089 -2.5412786  -0.16338301]\n"
     ]
    }
   ],
   "source": [
    "# Run graph\n",
    "# Initialize Variables\n",
    "init = tf.global_variables_initializer()\n",
    "sess.run(init)\n",
    "\n",
    "feed_dict = {x_input_1d: data_1d}\n",
    "\n",
    "print('>>>> 1D Data <<<<')\n",
    "\n",
    "# Convolution Output\n",
    "print('Input = array of length %d' % (x_input_1d.shape.as_list()[0]))\n",
    "print('Convolution w/ filter, length = %d, stride size = %d, results in an array of length %d:' % \n",
    "      (conv_size,stride_size,my_convolution_output.shape.as_list()[0]))\n",
    "print(sess.run(my_convolution_output, feed_dict=feed_dict))\n",
    "\n",
    "# Activation Output\n",
    "print('\\nInput = above array of length %d' % (my_convolution_output.shape.as_list()[0]))\n",
    "print('ReLU element wise returns an array of length %d:' % (my_activation_output.shape.as_list()[0]))\n",
    "print(sess.run(my_activation_output, feed_dict=feed_dict))\n",
    "\n",
    "# Max Pool Output\n",
    "print('\\nInput = above array of length %d' % (my_activation_output.shape.as_list()[0]))\n",
    "print('MaxPool, window length = %d, stride size = %d, results in the array of length %d' %\n",
    "     (maxpool_size,stride_size,my_maxpool_output.shape.as_list()[0]))\n",
    "print(sess.run(my_maxpool_output, feed_dict=feed_dict))\n",
    "\n",
    "# Fully Connected Output\n",
    "print('\\nInput = above array of length %d' % (my_maxpool_output.shape.as_list()[0]))\n",
    "print('Fully connected layer on all 4 rows with %d outputs:' % \n",
    "      (my_full_output.shape.as_list()[0]))\n",
    "print(sess.run(my_full_output, feed_dict=feed_dict))\n"
   ]
  },
  {
   "cell_type": "markdown",
   "metadata": {},
   "source": [
    "# 2 2D数据在网络层中的使用\n",
    "```\n",
    "#---------------------------------------------------|\n",
    "#-------------------2D-data-------------------------|\n",
    "#---------------------------------------------------|\n",
    "```"
   ]
  },
  {
   "cell_type": "code",
   "execution_count": 4,
   "metadata": {
    "collapsed": true
   },
   "outputs": [],
   "source": [
    "# Reset Graph\n",
    "ops.reset_default_graph()\n",
    "sess = tf.Session()\n",
    "\n",
    "# parameters for the run\n",
    "row_size = 10\n",
    "col_size = 10\n",
    "conv_size = 2\n",
    "conv_stride_size = 2\n",
    "maxpool_size = 2\n",
    "maxpool_stride_size = 1\n",
    "\n",
    "\n",
    "# ensure reproducibility\n",
    "seed=13\n",
    "np.random.seed(seed)\n",
    "tf.set_random_seed(seed)\n",
    "\n",
    "#Generate 2D data\n",
    "data_size = [row_size,col_size]\n",
    "data_2d = np.random.normal(size=data_size)\n",
    "\n",
    "#--------Placeholder--------\n",
    "x_input_2d = tf.placeholder(dtype=tf.float32, shape=data_size)\n",
    "\n",
    "# Convolution\n",
    "def conv_layer_2d(input_2d, my_filter,stride_size):\n",
    "    # TensorFlow's 'conv2d()' function only works with 4D arrays:\n",
    "    # [batch#, width, height, channels], we have 1 batch, and\n",
    "    # 1 channel, but we do have width AND height this time.\n",
    "    # So next we create the 4D array by inserting dimension 1's.\n",
    "    input_3d = tf.expand_dims(input_2d, 0)\n",
    "    input_4d = tf.expand_dims(input_3d, 3)\n",
    "    # Note the stride difference below!\n",
    "    convolution_output = tf.nn.conv2d(input_4d, filter=my_filter, \n",
    "                                      strides=[1,stride_size,stride_size,1], padding=\"VALID\")\n",
    "    # Get rid of unnecessary dimensions\n",
    "    conv_output_2d = tf.squeeze(convolution_output)\n",
    "    return(conv_output_2d)\n",
    "\n",
    "# Create Convolutional Filter\n",
    "my_filter = tf.Variable(tf.random_normal(shape=[conv_size,conv_size,1,1]))\n",
    "# Create Convolutional Layer\n",
    "my_convolution_output = conv_layer_2d(x_input_2d, my_filter,stride_size=conv_stride_size)\n",
    "\n",
    "#--------Activation--------\n",
    "def activation(input_1d):\n",
    "    return(tf.nn.relu(input_1d))\n",
    "\n",
    "# Create Activation Layer\n",
    "my_activation_output = activation(my_convolution_output)\n",
    "\n",
    "#--------Max Pool--------\n",
    "def max_pool(input_2d, width, height,stride):\n",
    "    # Just like 'conv2d()' above, max_pool() works with 4D arrays.\n",
    "    # [batch_size=1, width=given, height=given, channels=1]\n",
    "    input_3d = tf.expand_dims(input_2d, 0)\n",
    "    input_4d = tf.expand_dims(input_3d, 3)\n",
    "    # Perform the max pooling with strides = [1,1,1,1]\n",
    "    # If we wanted to increase the stride on our data dimension, say by\n",
    "    # a factor of '2', we put strides = [1, 2, 2, 1]\n",
    "    pool_output = tf.nn.max_pool(input_4d, ksize=[1, height, width, 1],\n",
    "                                 strides=[1, stride, stride, 1],\n",
    "                                 padding='VALID')\n",
    "    # Get rid of unnecessary dimensions\n",
    "    pool_output_2d = tf.squeeze(pool_output)\n",
    "    return(pool_output_2d)\n",
    "\n",
    "# Create Max-Pool Layer\n",
    "my_maxpool_output = max_pool(my_activation_output, \n",
    "                             width=maxpool_size, height=maxpool_size,stride=maxpool_stride_size)\n",
    "\n",
    "\n",
    "#--------Fully Connected--------\n",
    "def fully_connected(input_layer, num_outputs):\n",
    "    # In order to connect our whole W byH 2d array, we first flatten it out to\n",
    "    # a W times H 1D array.\n",
    "    flat_input = tf.reshape(input_layer, [-1])\n",
    "    # We then find out how long it is, and create an array for the shape of\n",
    "    # the multiplication weight = (WxH) by (num_outputs)\n",
    "    weight_shape = tf.squeeze(tf.stack([tf.shape(flat_input),[num_outputs]]))\n",
    "    # Initialize the weight\n",
    "    weight = tf.random_normal(weight_shape, stddev=0.1)\n",
    "    # Initialize the bias\n",
    "    bias = tf.random_normal(shape=[num_outputs])\n",
    "    # Now make the flat 1D array into a 2D array for multiplication\n",
    "    input_2d = tf.expand_dims(flat_input, 0)\n",
    "    # Multiply and add the bias\n",
    "    full_output = tf.add(tf.matmul(input_2d, weight), bias)\n",
    "    # Get rid of extra dimension\n",
    "    full_output_2d = tf.squeeze(full_output)\n",
    "    return(full_output_2d)\n",
    "\n",
    "# Create Fully Connected Layer\n",
    "my_full_output = fully_connected(my_maxpool_output, 5)"
   ]
  },
  {
   "cell_type": "code",
   "execution_count": 5,
   "metadata": {},
   "outputs": [
    {
     "name": "stdout",
     "output_type": "stream",
     "text": [
      ">>>> 2D Data <<<<\n",
      "Input = [10, 10] array\n",
      "[2, 2] Convolution, stride size = [2, 2] , results in the [5, 5] array\n",
      "[[ 0.14431179  0.72783369  1.51149166 -1.28099763  1.78439188]\n",
      " [-2.54503059  0.76156765 -0.51650006  0.77131093  0.37542343]\n",
      " [ 0.49345911  0.01592223  0.38653135 -1.47997665  0.6952765 ]\n",
      " [-0.34617192 -2.53189754 -0.9525758  -1.4357065   0.66257358]\n",
      " [-1.98540258  0.34398788  2.53760481 -0.86784822 -0.3100495 ]]\n",
      "\n",
      "Input = the above [5, 5] array\n",
      "ReLU element wise returns the [5, 5] array\n",
      "[[ 0.14431179  0.72783369  1.51149166  0.          1.78439188]\n",
      " [ 0.          0.76156765  0.          0.77131093  0.37542343]\n",
      " [ 0.49345911  0.01592223  0.38653135  0.          0.6952765 ]\n",
      " [ 0.          0.          0.          0.          0.66257358]\n",
      " [ 0.          0.34398788  2.53760481  0.          0.        ]]\n",
      "\n",
      "Input = the above [5, 5] array\n",
      "MaxPool, stride size = [1, 1], results in [4, 4] array\n",
      "[[ 0.76156765  1.51149166  1.51149166  1.78439188]\n",
      " [ 0.76156765  0.76156765  0.77131093  0.77131093]\n",
      " [ 0.49345911  0.38653135  0.38653135  0.6952765 ]\n",
      " [ 0.34398788  2.53760481  2.53760481  0.66257358]]\n",
      "\n",
      "Input = the above [4, 4] array\n",
      "Fully connected layer on all 4 rows results in 5 outputs:\n",
      "[ 0.08245847 -0.16351229 -0.55429065 -0.24322605 -0.99900764]\n"
     ]
    }
   ],
   "source": [
    "# Run graph\n",
    "# Initialize Variables\n",
    "init = tf.global_variables_initializer()\n",
    "sess.run(init)\n",
    "\n",
    "feed_dict = {x_input_2d: data_2d}\n",
    "\n",
    "print('>>>> 2D Data <<<<')\n",
    "\n",
    "# Convolution Output\n",
    "print('Input = %s array' % (x_input_2d.shape.as_list()))\n",
    "print('%s Convolution, stride size = [%d, %d] , results in the %s array' % \n",
    "      (my_filter.get_shape().as_list()[:2],conv_stride_size,conv_stride_size,my_convolution_output.shape.as_list()))\n",
    "print(sess.run(my_convolution_output, feed_dict=feed_dict))\n",
    "\n",
    "# Activation Output\n",
    "print('\\nInput = the above %s array' % (my_convolution_output.shape.as_list()))\n",
    "print('ReLU element wise returns the %s array' % (my_activation_output.shape.as_list()))\n",
    "print(sess.run(my_activation_output, feed_dict=feed_dict))\n",
    "\n",
    "# Max Pool Output\n",
    "print('\\nInput = the above %s array' % (my_activation_output.shape.as_list()))\n",
    "print('MaxPool, stride size = [%d, %d], results in %s array' % \n",
    "      (maxpool_stride_size,maxpool_stride_size,my_maxpool_output.shape.as_list()))\n",
    "print(sess.run(my_maxpool_output, feed_dict=feed_dict))\n",
    "\n",
    "# Fully Connected Output\n",
    "print('\\nInput = the above %s array' % (my_maxpool_output.shape.as_list()))\n",
    "print('Fully connected layer on all %d rows results in %s outputs:' % \n",
    "      (my_maxpool_output.shape.as_list()[0],my_full_output.shape.as_list()[0]))\n",
    "print(sess.run(my_full_output, feed_dict=feed_dict))"
   ]
  },
  {
   "cell_type": "code",
   "execution_count": 16,
   "metadata": {
    "collapsed": true
   },
   "outputs": [],
   "source": [
    "sess.close()"
   ]
  },
  {
   "cell_type": "markdown",
   "metadata": {
    "collapsed": true
   },
   "source": [
    "# 3 叠加多个全连接层\n",
    "\n",
    "### Low Birthrate data:\n",
    "```\n",
    "#Columns    Variable                                      Abbreviation\n",
    "#---------------------------------------------------------------------\n",
    "# Low Birth Weight (0 = Birth Weight >= 2500g,            LOW\n",
    "#                          1 = Birth Weight < 2500g)\n",
    "# Age of the Mother in Years                              AGE\n",
    "# Weight in Pounds at the Last Menstrual Period           LWT\n",
    "# Race (1 = White, 2 = Black, 3 = Other)                  RACE\n",
    "# Smoking Status During Pregnancy (1 = Yes, 0 = No)       SMOKE\n",
    "# History of Premature Labor (0 = None  1 = One, etc.)    PTL\n",
    "# History of Hypertension (1 = Yes, 0 = No)               HT\n",
    "# Presence of Uterine Irritability (1 = Yes, 0 = No)      UI\n",
    "# Birth Weight in Grams                                   BWT\n",
    "#---------------------------------------------------------------------\n",
    "```\n",
    "The multiple neural network layer we will create will be composed of three fully connected hidden layers, with node sizes 50, 25, and 5"
   ]
  },
  {
   "cell_type": "code",
   "execution_count": 17,
   "metadata": {
    "collapsed": true
   },
   "outputs": [],
   "source": [
    "import tensorflow as tf\n",
    "import matplotlib.pyplot as plt\n",
    "import csv\n",
    "import os\n",
    "import os.path\n",
    "import random\n",
    "import numpy as np\n",
    "import random\n",
    "import requests\n",
    "from tensorflow.python.framework import ops"
   ]
  },
  {
   "cell_type": "code",
   "execution_count": 18,
   "metadata": {
    "collapsed": true
   },
   "outputs": [],
   "source": [
    "# Create graph session \n",
    "ops.reset_default_graph()\n",
    "sess = tf.Session()"
   ]
  },
  {
   "cell_type": "markdown",
   "metadata": {},
   "source": [
    "# 3.1 数据"
   ]
  },
  {
   "cell_type": "code",
   "execution_count": 22,
   "metadata": {},
   "outputs": [],
   "source": [
    "# name of data file\n",
    "birth_weight_file = 'birth_weight.csv'\n",
    "\n",
    "# download data and create data file if file does not exist in current directory\n",
    "if not os.path.exists(birth_weight_file):\n",
    "    birthdata_url = 'https://github.com/nfmcclure/tensorflow_cookbook/raw/master/01_Introduction/07_Working_with_Data_Sources/birthweight_data/birthweight.dat'\n",
    "    birth_file = requests.get(birthdata_url)\n",
    "    birth_data = birth_file.text.split('\\r\\n')\n",
    "    birth_header = birth_data[0].split('\\t')\n",
    "    birth_data = [[float(x) for x in y.split('\\t') if len(x)>=1] for y in birth_data[1:] if len(y)>=1]\n",
    "    with open(birth_weight_file, \"w\") as f:\n",
    "        writer = csv.writer(f)\n",
    "        writer.writerows([birth_header])\n",
    "        writer.writerows(birth_data)\n",
    "        f.close()\n",
    "\n",
    "# read birth weight data into memory\n",
    "birth_data = []\n",
    "with open(birth_weight_file, 'r') as csvfile:\n",
    "    csv_reader = csv.reader(csvfile)\n",
    "    birth_header = next(csv_reader)\n",
    "    for row in csv_reader:\n",
    "        birth_data.append(row)\n",
    "\n",
    "birth_data = [[float(x) for x in row] for row in birth_data]\n",
    "\n",
    "\n",
    "# Extract y-target (birth weight)\n",
    "y_vals = np.array([x[8] for x in birth_data])\n",
    "\n",
    "# Filter for features of interest\n",
    "cols_of_interest = ['AGE', 'LWT', 'RACE', 'SMOKE', 'PTL', 'HT', 'UI']\n",
    "newline = np.array([[x[ix] for ix, feature in enumerate(birth_header) if feature in cols_of_interest] for x in birth_data])"
   ]
  },
  {
   "cell_type": "markdown",
   "metadata": {},
   "source": [
    "## 3.2 配置参数"
   ]
  },
  {
   "cell_type": "code",
   "execution_count": 28,
   "metadata": {
    "collapsed": true
   },
   "outputs": [],
   "source": [
    "# set batch size for training\n",
    "batch_size = 100\n",
    "\n",
    "# make results reproducible\n",
    "seed = 3\n",
    "np.random.seed(seed)\n",
    "tf.set_random_seed(seed)"
   ]
  },
  {
   "cell_type": "markdown",
   "metadata": {},
   "source": [
    "## 3.3 预测处理数据"
   ]
  },
  {
   "cell_type": "code",
   "execution_count": 30,
   "metadata": {},
   "outputs": [],
   "source": [
    "# Split data into train/test = 80%/20%\n",
    "train_indices = np.random.choice(len(x_vals), int(round(len(x_vals)*0.8)), replace=False)\n",
    "test_indices = np.array(list(set(range(len(x_vals))) - set(train_indices)))\n",
    "x_vals_train = x_vals[train_indices]\n",
    "x_vals_test = x_vals[test_indices]\n",
    "y_vals_train = y_vals[train_indices]\n",
    "y_vals_test = y_vals[test_indices]\n",
    "\n",
    "\n",
    "# Normalize by column (min-max norm to be between 0 and 1)\n",
    "def normalize_cols(m):\n",
    "    col_max = m.max(axis=0)\n",
    "    col_min = m.min(axis=0)\n",
    "    return (m-col_min) / (col_max - col_min)\n",
    "    \n",
    "x_vals_train = np.nan_to_num(normalize_cols(x_vals_train))\n",
    "x_vals_test = np.nan_to_num(normalize_cols(x_vals_test))"
   ]
  },
  {
   "cell_type": "markdown",
   "metadata": {},
   "source": [
    "## 3.4 创建初始化的函数和全连接层"
   ]
  },
  {
   "cell_type": "code",
   "execution_count": 31,
   "metadata": {
    "collapsed": true
   },
   "outputs": [],
   "source": [
    "# Define Variable Functions (weights and bias)\n",
    "def init_weight(shape, st_dev):\n",
    "    weight = tf.Variable(tf.random_normal(shape, stddev=st_dev))\n",
    "    return(weight)\n",
    "    \n",
    "\n",
    "def init_bias(shape, st_dev):\n",
    "    bias = tf.Variable(tf.random_normal(shape, stddev=st_dev))\n",
    "    return(bias)\n",
    "    \n",
    "    \n",
    "# Create Placeholders\n",
    "x_data = tf.placeholder(shape=[None, 7], dtype=tf.float32)\n",
    "y_target = tf.placeholder(shape=[None, 1], dtype=tf.float32)\n",
    "\n",
    "\n",
    "# Create a fully connected layer:\n",
    "def fully_connected(input_layer, weights, biases):\n",
    "    layer = tf.add(tf.matmul(input_layer, weights), biases)\n",
    "    return(tf.nn.relu(layer))"
   ]
  },
  {
   "cell_type": "markdown",
   "metadata": {},
   "source": [
    "## 3.5 构建多重全连接层"
   ]
  },
  {
   "cell_type": "code",
   "execution_count": 33,
   "metadata": {
    "collapsed": true
   },
   "outputs": [],
   "source": [
    "\n",
    "#--------Create the first layer (50 hidden nodes)--------\n",
    "weight_1 = init_weight(shape=[7, 25], st_dev=10.0)\n",
    "bias_1 = init_bias(shape=[25], st_dev=10.0)\n",
    "layer_1 = fully_connected(x_data, weight_1, bias_1)\n",
    "\n",
    "#--------Create second layer (25 hidden nodes)--------\n",
    "weight_2 = init_weight(shape=[25, 10], st_dev=10.0)\n",
    "bias_2 = init_bias(shape=[10], st_dev=10.0)\n",
    "layer_2 = fully_connected(layer_1, weight_2, bias_2)\n",
    "\n",
    "\n",
    "#--------Create third layer (5 hidden nodes)--------\n",
    "weight_3 = init_weight(shape=[10, 3], st_dev=10.0)\n",
    "bias_3 = init_bias(shape=[3], st_dev=10.0)\n",
    "layer_3 = fully_connected(layer_2, weight_3, bias_3)\n",
    "\n",
    "\n",
    "#--------Create output layer (1 output value)--------\n",
    "weight_4 = init_weight(shape=[3, 1], st_dev=10.0)\n",
    "bias_4 = init_bias(shape=[1], st_dev=10.0)\n",
    "final_output = fully_connected(layer_3, weight_4, bias_4)"
   ]
  },
  {
   "cell_type": "markdown",
   "metadata": {},
   "source": [
    "## 3.6 构建损失函数，优化函数，初始化变量"
   ]
  },
  {
   "cell_type": "code",
   "execution_count": 34,
   "metadata": {},
   "outputs": [],
   "source": [
    "# Declare loss function (L1)\n",
    "loss = tf.reduce_mean(tf.abs(y_target - final_output))\n",
    "\n",
    "# Declare optimizer\n",
    "my_opt = tf.train.AdamOptimizer(0.05)\n",
    "train_step = my_opt.minimize(loss)\n",
    "\n",
    "# Initialize Variables\n",
    "init = tf.global_variables_initializer()\n",
    "sess.run(init)"
   ]
  },
  {
   "cell_type": "markdown",
   "metadata": {},
   "source": [
    "## 3.7 训练"
   ]
  },
  {
   "cell_type": "code",
   "execution_count": 35,
   "metadata": {},
   "outputs": [
    {
     "name": "stdout",
     "output_type": "stream",
     "text": [
      "Generation: 25. Loss = 5285.38\n",
      "Generation: 50. Loss = 2714.99\n",
      "Generation: 75. Loss = 2629.44\n",
      "Generation: 100. Loss = 2040.34\n",
      "Generation: 125. Loss = 2334.34\n",
      "Generation: 150. Loss = 1700.53\n",
      "Generation: 175. Loss = 1663.91\n",
      "Generation: 200. Loss = 786.831\n"
     ]
    }
   ],
   "source": [
    "# Training loop\n",
    "loss_vec = []\n",
    "test_loss = []\n",
    "for i in range(200):\n",
    "    rand_index = np.random.choice(len(x_vals_train), size=batch_size)\n",
    "    rand_x = x_vals_train[rand_index]\n",
    "    rand_y = np.transpose([y_vals_train[rand_index]])\n",
    "    sess.run(train_step, feed_dict={x_data: rand_x, y_target: rand_y})\n",
    "\n",
    "    temp_loss = sess.run(loss, feed_dict={x_data: rand_x, y_target: rand_y})\n",
    "    loss_vec.append(temp_loss)\n",
    "    \n",
    "    test_temp_loss = sess.run(loss, feed_dict={x_data: x_vals_test, y_target: np.transpose([y_vals_test])})\n",
    "    test_loss.append(test_temp_loss)\n",
    "    if (i+1) % 25 == 0:\n",
    "        print('Generation: ' + str(i+1) + '. Loss = ' + str(temp_loss))"
   ]
  },
  {
   "cell_type": "markdown",
   "metadata": {},
   "source": [
    "## 3.8 可视化训练的损失"
   ]
  },
  {
   "cell_type": "code",
   "execution_count": 37,
   "metadata": {},
   "outputs": [
    {
     "data": {
      "image/png": "[encoded data removed]",
      "text/plain": [
       "<matplotlib.figure.Figure at 0x7fa2afd09e90>"
      ]
     },
     "metadata": {},
     "output_type": "display_data"
    }
   ],
   "source": [
    "%matplotlib inline\n",
    "# Plot loss (MSE) over time\n",
    "plt.plot(loss_vec, 'k-', label='Train Loss')\n",
    "plt.plot(test_loss, 'r--', label='Test Loss')\n",
    "plt.title('Loss (MSE) per Generation')\n",
    "plt.legend(loc='upper right')\n",
    "plt.xlabel('Generation')\n",
    "plt.ylabel('Loss')\n",
    "plt.show()"
   ]
  },
  {
   "cell_type": "code",
   "execution_count": null,
   "metadata": {
    "collapsed": true
   },
   "outputs": [],
   "source": []
  }
 ],
 "metadata": {
  "anaconda-cloud": {},
  "kernelspec": {
   "display_name": "Python 2",
   "language": "python",
   "name": "python2"
  },
  "language_info": {
   "codemirror_mode": {
    "name": "ipython",
    "version": 2
   },
   "file_extension": ".py",
   "mimetype": "text/x-python",
   "name": "python",
   "nbconvert_exporter": "python",
   "pygments_lexer": "ipython2",
   "version": "2.7.13"
  }
 },
 "nbformat": 4,
 "nbformat_minor": 2
}
