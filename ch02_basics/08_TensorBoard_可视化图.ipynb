{
 "cells": [
  {
   "cell_type": "markdown",
   "metadata": {},
   "source": [
    "# Ch `02`: Concept `08`"
   ]
  },
  {
   "cell_type": "markdown",
   "metadata": {},
   "source": [
    "## Using TensorBoard"
   ]
  },
  {
   "cell_type": "markdown",
   "metadata": {},
   "source": [
    "TensorBoard is a great way to visualize what's happening behind the code. \n",
    "\n",
    "In this example, we'll loop through some numbers to improve our guess of the average value. Then we can visualize the results on TensorBoard. \n",
    "\n",
    "Let's just set ourselves up with some data to work with:"
   ]
  },
  {
   "cell_type": "code",
   "execution_count": 1,
   "metadata": {
    "collapsed": true
   },
   "outputs": [],
   "source": [
    "import tensorflow as tf\n",
    "import numpy as np\n",
    "\n",
    "raw_data = np.random.normal(10, 1, 100)"
   ]
  },
  {
   "cell_type": "markdown",
   "metadata": {},
   "source": [
    "The moving average is defined as follows:"
   ]
  },
  {
   "cell_type": "code",
   "execution_count": 2,
   "metadata": {
    "collapsed": true
   },
   "outputs": [],
   "source": [
    "alpha = tf.constant(0.05)\n",
    "curr_value = tf.placeholder(tf.float32)\n",
    "prev_avg = tf.Variable(0.)\n",
    "\n",
    "update_avg = alpha * curr_value + (1 - alpha) * prev_avg"
   ]
  },
  {
   "cell_type": "markdown",
   "metadata": {},
   "source": [
    "Here's what we care to visualize:"
   ]
  },
  {
   "cell_type": "code",
   "execution_count": 3,
   "metadata": {
    "collapsed": true
   },
   "outputs": [],
   "source": [
    "avg_hist = tf.summary.scalar(\"running_average\", update_avg)\n",
    "value_hist = tf.summary.scalar(\"incoming_values\", curr_value)\n",
    "\n",
    "merged = tf.summary.merge_all()\n",
    "writer = tf.summary.FileWriter(\"/tmp/logs\")"
   ]
  },
  {
   "cell_type": "markdown",
   "metadata": {},
   "source": [
    "Time to compute the moving averages. We'll also run the `merged` op to track how the values change:"
   ]
  },
  {
   "cell_type": "code",
   "execution_count": 4,
   "metadata": {},
   "outputs": [
    {
     "name": "stdout",
     "output_type": "stream",
     "text": [
      "(8.322050779609425, 0.41610256)\n",
      "(9.5015788328381152, 0.87037641)\n",
      "(10.419206972091997, 1.3478179)\n",
      "(12.830561386573599, 1.9219551)\n",
      "(9.8102818036207893, 2.3163714)\n",
      "(10.353314711298101, 2.7182188)\n",
      "(10.359616491669327, 3.1002886)\n",
      "(10.158701216640987, 3.4532092)\n",
      "(10.623300121111674, 3.8117137)\n",
      "(11.985452880500317, 4.2204008)\n",
      "(9.9818634162458064, 4.5084739)\n",
      "(10.360538005812263, 4.8010769)\n",
      "(10.254906088157494, 5.0737681)\n",
      "(10.495475994355163, 5.3448534)\n",
      "(10.96831548106363, 5.6260262)\n",
      "(9.5370501018153835, 5.8215771)\n",
      "(9.240083008447515, 5.9925022)\n",
      "(10.446009564250968, 6.2151775)\n",
      "(9.9386066832577775, 6.4013486)\n",
      "(12.313230417482053, 6.6969428)\n",
      "(12.348188828084091, 6.9795046)\n",
      "(10.304906654003014, 7.1457748)\n",
      "(10.440187450941149, 7.3104954)\n",
      "(10.768762469393915, 7.4834089)\n",
      "(9.8595405502659634, 7.6022158)\n",
      "(10.464740336716382, 7.7453423)\n",
      "(9.9529086638668876, 7.8557205)\n",
      "(10.875264791238164, 8.0066977)\n",
      "(10.262341926281252, 8.1194801)\n",
      "(10.195691369611742, 8.2232904)\n",
      "(10.153227804236524, 8.319787)\n",
      "(10.369560100303545, 8.4222755)\n",
      "(8.7083385516695131, 8.4365788)\n",
      "(10.521441711792789, 8.540822)\n",
      "(9.3848228315243212, 8.5830221)\n",
      "(9.325749304363331, 8.6201582)\n",
      "(10.066471584042386, 8.6924734)\n",
      "(9.586181005681027, 8.7371588)\n",
      "(11.087033733883775, 8.8546524)\n",
      "(10.357647687821164, 8.9298019)\n",
      "(9.3747578679339334, 8.9520493)\n",
      "(9.5698129240237559, 8.9829378)\n",
      "(9.9792603700812066, 9.0327539)\n",
      "(9.8082974234884599, 9.0715303)\n",
      "(9.7191990834765427, 9.1039133)\n",
      "(9.4684178025887782, 9.122139)\n",
      "(8.6394994749390914, 9.0980072)\n",
      "(8.9717829376720211, 9.0916958)\n",
      "(9.9422345040133724, 9.134222)\n",
      "(11.2352618470265, 9.239274)\n",
      "(10.901870845945897, 9.3224039)\n",
      "(10.069809007938614, 9.3597736)\n",
      "(10.397036693000844, 9.4116364)\n",
      "(11.364135958847797, 9.5092611)\n",
      "(10.014140587664725, 9.5345049)\n",
      "(9.7276096670930805, 9.5441599)\n",
      "(9.5665506109170106, 9.5452795)\n",
      "(8.0116067806305722, 9.4685955)\n",
      "(11.676260013277739, 9.5789785)\n",
      "(11.548986093127514, 9.6774788)\n",
      "(10.477419637874421, 9.7174759)\n",
      "(8.5555310307259216, 9.6593781)\n",
      "(10.127940803163614, 9.682806)\n",
      "(8.931520921963223, 9.6452417)\n",
      "(11.531578103627966, 9.7395582)\n",
      "(9.5269732707215056, 9.7289295)\n",
      "(10.033759773988683, 9.7441711)\n",
      "(9.7297417953721101, 9.7434502)\n",
      "(11.796176674062567, 9.8460855)\n",
      "(11.398544105237047, 9.923708)\n",
      "(10.183889734122319, 9.936717)\n",
      "(10.57233738235249, 9.9684982)\n",
      "(9.3598844286039622, 9.9380665)\n",
      "(9.6257224219025463, 9.9224491)\n",
      "(7.2685890962414783, 9.7897558)\n",
      "(9.933313098351384, 9.7969341)\n",
      "(9.5624569712156191, 9.7852097)\n",
      "(10.054083804731992, 9.7986536)\n",
      "(9.1497768343977128, 9.7662096)\n",
      "(9.9122489808413583, 9.7735109)\n",
      "(9.9989475958829637, 9.7847824)\n",
      "(9.6123045820062138, 9.7761583)\n",
      "(8.7803157090806518, 9.726366)\n",
      "(11.102253353011667, 9.7951603)\n",
      "(10.436797736739699, 9.8272419)\n",
      "(9.7847661201546714, 9.8251181)\n",
      "(10.797155606026678, 9.8737202)\n",
      "(9.2892646313307914, 9.8444977)\n",
      "(10.252181233578481, 9.8648825)\n",
      "(10.715020433133262, 9.9073896)\n",
      "(10.761405814210864, 9.9500904)\n",
      "(8.9109836810517429, 9.8981352)\n",
      "(9.0319515227067626, 9.854826)\n",
      "(9.8011953825820601, 9.8521442)\n",
      "(9.5261832284083958, 9.8358459)\n",
      "(9.5002425914090338, 9.8190651)\n",
      "(9.0537766383620983, 9.7808008)\n",
      "(10.119918179276944, 9.7977562)\n",
      "(11.056022228904144, 9.8606691)\n",
      "(10.765191561601926, 9.9058952)\n"
     ]
    }
   ],
   "source": [
    "init = tf.global_variables_initializer()\n",
    "\n",
    "with tf.Session() as sess:\n",
    "    sess.run(init)\n",
    "    for i in range(len(raw_data)):\n",
    "        summary_str, curr_avg = sess.run([merged, update_avg], feed_dict={curr_value: raw_data[i]})\n",
    "        sess.run(tf.assign(prev_avg, curr_avg))\n",
    "        print(raw_data[i], curr_avg)\n",
    "        writer.add_summary(summary_str, i)"
   ]
  },
  {
   "cell_type": "markdown",
   "metadata": {},
   "source": [
    "Check out the visualization by running TensorBoard from the terminal:\n",
    "\n",
    "    $ tensorboard --logdir=/tmp/logs\n",
    "\n",
    "网页查看\n",
    "http://0.0.0.0:6006"
   ]
  },
  {
   "cell_type": "markdown",
   "metadata": {},
   "source": [
    "# 如果不在tf.Session() 下面执行操作,要使用\n",
    "my_writer = tf.summary.FileWriter('tensorboard_logs/', sess.graph)"
   ]
  },
  {
   "cell_type": "code",
   "execution_count": null,
   "metadata": {
    "collapsed": true
   },
   "outputs": [],
   "source": []
  }
 ],
 "metadata": {
  "kernelspec": {
   "display_name": "Python 2",
   "language": "python",
   "name": "python2"
  },
  "language_info": {
   "codemirror_mode": {
    "name": "ipython",
    "version": 3
   },
   "file_extension": ".py",
   "mimetype": "text/x-python",
   "name": "python",
   "nbconvert_exporter": "python",
   "pygments_lexer": "ipython3",
   "version": "3.6.4"
  }
 },
 "nbformat": 4,
 "nbformat_minor": 2
}
