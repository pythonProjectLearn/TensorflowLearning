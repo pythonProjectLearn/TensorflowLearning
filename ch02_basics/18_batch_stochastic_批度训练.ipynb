{
 "cells": [
  {
   "cell_type": "code",
   "execution_count": 1,
   "metadata": {
    "collapsed": true
   },
   "outputs": [],
   "source": [
    "import matplotlib.pyplot as plt\n",
    "import numpy as np\n",
    "import tensorflow as tf\n",
    "from tensorflow.python.framework import ops"
   ]
  },
  {
   "cell_type": "code",
   "execution_count": null,
   "metadata": {
    "collapsed": true
   },
   "outputs": [],
   "source": [
    "# c重启网络，设置session"
   ]
  },
  {
   "cell_type": "code",
   "execution_count": 2,
   "metadata": {
    "collapsed": true
   },
   "outputs": [],
   "source": [
    "ops.reset_default_graph()\n",
    "sess = tf.Session()"
   ]
  },
  {
   "cell_type": "markdown",
   "metadata": {},
   "source": [
    "# 1 随机训练"
   ]
  },
  {
   "cell_type": "markdown",
   "metadata": {},
   "source": [
    "## 1.1生成数据并为其设置占位符"
   ]
  },
  {
   "cell_type": "code",
   "execution_count": 3,
   "metadata": {
    "collapsed": true
   },
   "outputs": [],
   "source": [
    "x_vals = np.random.normal(1, 0.1, 100)\n",
    "y_vals = np.repeat(10., 100)\n",
    "\n",
    "x_data = tf.placeholder(shape=[1], dtype=tf.float32)\n",
    "y_target = tf.placeholder(shape=[1], dtype=tf.float32)"
   ]
  },
  {
   "cell_type": "markdown",
   "metadata": {},
   "source": [
    "## 1.2 初始化变量和输出公式"
   ]
  },
  {
   "cell_type": "code",
   "execution_count": 4,
   "metadata": {
    "collapsed": true
   },
   "outputs": [],
   "source": [
    "A = tf.Variable(tf.random_normal(shape=[1]))\n",
    "my_output = tf.multiply(x_data, A)"
   ]
  },
  {
   "cell_type": "markdown",
   "metadata": {},
   "source": [
    "## 1.3 损失函数"
   ]
  },
  {
   "cell_type": "code",
   "execution_count": 5,
   "metadata": {
    "collapsed": true
   },
   "outputs": [],
   "source": [
    "loss = tf.square(my_output - y_target)"
   ]
  },
  {
   "cell_type": "markdown",
   "metadata": {},
   "source": [
    "## 1.4 优化目标函数，初始化变量"
   ]
  },
  {
   "cell_type": "code",
   "execution_count": 6,
   "metadata": {
    "collapsed": true
   },
   "outputs": [],
   "source": [
    "my_opt = tf.train.GradientDescentOptimizer(0.02)\n",
    "train_step = my_opt.minimize(loss)\n",
    "\n",
    "# Initialize variables\n",
    "init = tf.global_variables_initializer()\n",
    "sess.run(init)"
   ]
  },
  {
   "cell_type": "markdown",
   "metadata": {},
   "source": [
    "# 1.5 训练"
   ]
  },
  {
   "cell_type": "code",
   "execution_count": 7,
   "metadata": {},
   "outputs": [
    {
     "name": "stdout",
     "output_type": "stream",
     "text": [
      "Step #5 A = [ 0.82925415]\n",
      "Loss = [ 83.87278748]\n",
      "Step #10 A = [ 2.41195631]\n",
      "Loss = [ 59.88301849]\n",
      "Step #15 A = [ 3.79746318]\n",
      "Loss = [ 34.30431747]\n",
      "Step #20 A = [ 4.92559338]\n",
      "Loss = [ 17.59659004]\n",
      "Step #25 A = [ 5.84776926]\n",
      "Loss = [ 15.46319008]\n",
      "Step #30 A = [ 6.5851984]\n",
      "Loss = [ 12.60024643]\n",
      "Step #35 A = [ 7.21823549]\n",
      "Loss = [ 11.54000664]\n",
      "Step #40 A = [ 7.77859879]\n",
      "Loss = [ 8.8871994]\n",
      "Step #45 A = [ 8.08587074]\n",
      "Loss = [ 0.24488328]\n",
      "Step #50 A = [ 8.50468445]\n",
      "Loss = [ 6.4324193]\n",
      "Step #55 A = [ 8.83707142]\n",
      "Loss = [ 6.16963148]\n",
      "Step #60 A = [ 9.04315376]\n",
      "Loss = [ 1.41057527]\n",
      "Step #65 A = [ 9.22694206]\n",
      "Loss = [ 0.00060615]\n",
      "Step #70 A = [ 9.28893948]\n",
      "Loss = [ 0.89811999]\n",
      "Step #75 A = [ 9.51581287]\n",
      "Loss = [ 0.34014836]\n",
      "Step #80 A = [ 9.56071854]\n",
      "Loss = [ 0.42732227]\n",
      "Step #85 A = [ 9.60999775]\n",
      "Loss = [ 1.48363888]\n",
      "Step #90 A = [ 9.56364536]\n",
      "Loss = [ 7.15878439]\n",
      "Step #95 A = [ 9.64340496]\n",
      "Loss = [  3.65230953e-05]\n",
      "Step #100 A = [ 9.73591137]\n",
      "Loss = [ 0.3008157]\n"
     ]
    }
   ],
   "source": [
    "loss_stochastic = []\n",
    "# Run Loop\n",
    "for i in range(100):\n",
    "    rand_index = np.random.choice(100)\n",
    "    rand_x = [x_vals[rand_index]]\n",
    "    rand_y = [y_vals[rand_index]]\n",
    "    sess.run(train_step, feed_dict={x_data: rand_x, y_target: rand_y})\n",
    "    if (i+1)%5==0:\n",
    "        print('Step #' + str(i+1) + ' A = ' + str(sess.run(A)))\n",
    "        temp_loss = sess.run(loss, feed_dict={x_data: rand_x, y_target: rand_y})\n",
    "        print('Loss = ' + str(temp_loss))\n",
    "        loss_stochastic.append(temp_loss)"
   ]
  },
  {
   "cell_type": "markdown",
   "metadata": {},
   "source": [
    "# 2 批度"
   ]
  },
  {
   "cell_type": "code",
   "execution_count": 8,
   "metadata": {
    "collapsed": true
   },
   "outputs": [],
   "source": [
    "ops.reset_default_graph()\n",
    "sess = tf.Session()"
   ]
  },
  {
   "cell_type": "code",
   "execution_count": 9,
   "metadata": {
    "collapsed": true
   },
   "outputs": [],
   "source": [
    "batch_size = 25"
   ]
  },
  {
   "cell_type": "markdown",
   "metadata": {},
   "source": [
    "## 2.1 数据和占位符"
   ]
  },
  {
   "cell_type": "code",
   "execution_count": 11,
   "metadata": {
    "collapsed": true
   },
   "outputs": [],
   "source": [
    "x_vals = np.random.normal(1, 0.1, 100)\n",
    "y_vals = np.repeat(10., 100)\n",
    "x_data = tf.placeholder(shape=[None, 1], dtype=tf.float32)\n",
    "y_target = tf.placeholder(shape=[None, 1], dtype=tf.float32)"
   ]
  },
  {
   "cell_type": "markdown",
   "metadata": {},
   "source": [
    "## 2.2 初始化变量"
   ]
  },
  {
   "cell_type": "code",
   "execution_count": 12,
   "metadata": {
    "collapsed": true
   },
   "outputs": [],
   "source": [
    "# Create variable (one model parameter = A)\n",
    "A = tf.Variable(tf.random_normal(shape=[1,1]))\n",
    "\n",
    "# Add operation to graph\n",
    "my_output = tf.matmul(x_data, A)"
   ]
  },
  {
   "cell_type": "markdown",
   "metadata": {},
   "source": [
    "## 2.3 损失函数"
   ]
  },
  {
   "cell_type": "code",
   "execution_count": 13,
   "metadata": {
    "collapsed": true
   },
   "outputs": [],
   "source": [
    "loss = tf.reduce_mean(tf.square(my_output - y_target))"
   ]
  },
  {
   "cell_type": "code",
   "execution_count": 14,
   "metadata": {
    "collapsed": true
   },
   "outputs": [],
   "source": [
    "## 2.4 优化目标函数"
   ]
  },
  {
   "cell_type": "code",
   "execution_count": 15,
   "metadata": {
    "collapsed": true
   },
   "outputs": [],
   "source": [
    "init = tf.global_variables_initializer()\n",
    "sess.run(init)\n",
    "\n",
    "# Create Optimizer\n",
    "my_opt = tf.train.GradientDescentOptimizer(0.02)\n",
    "train_step = my_opt.minimize(loss)"
   ]
  },
  {
   "cell_type": "markdown",
   "metadata": {},
   "source": [
    "## 2.4 训练模型"
   ]
  },
  {
   "cell_type": "code",
   "execution_count": 16,
   "metadata": {},
   "outputs": [
    {
     "name": "stdout",
     "output_type": "stream",
     "text": [
      "Step #5 A = [[ 0.88712025]]\n",
      "Loss = 82.616\n",
      "Step #10 A = [[ 2.56920147]]\n",
      "Loss = 54.688\n",
      "Step #15 A = [[ 3.94726324]]\n",
      "Loss = 37.5135\n",
      "Step #20 A = [[ 5.05944538]]\n",
      "Loss = 23.7282\n",
      "Step #25 A = [[ 5.96025991]]\n",
      "Loss = 17.0588\n",
      "Step #30 A = [[ 6.67890739]]\n",
      "Loss = 9.62222\n",
      "Step #35 A = [[ 7.27319193]]\n",
      "Loss = 7.73409\n",
      "Step #40 A = [[ 7.75063038]]\n",
      "Loss = 4.8544\n",
      "Step #45 A = [[ 8.13765812]]\n",
      "Loss = 3.87034\n",
      "Step #50 A = [[ 8.4512043]]\n",
      "Loss = 3.05052\n",
      "Step #55 A = [[ 8.70235348]]\n",
      "Loss = 2.34551\n",
      "Step #60 A = [[ 8.92103386]]\n",
      "Loss = 1.11417\n",
      "Step #65 A = [[ 9.07402706]]\n",
      "Loss = 1.5392\n",
      "Step #70 A = [[ 9.20684052]]\n",
      "Loss = 1.24409\n",
      "Step #75 A = [[ 9.32172108]]\n",
      "Loss = 1.58082\n",
      "Step #80 A = [[ 9.42206478]]\n",
      "Loss = 1.02537\n",
      "Step #85 A = [[ 9.46528053]]\n",
      "Loss = 1.10341\n",
      "Step #90 A = [[ 9.50311375]]\n",
      "Loss = 0.910375\n",
      "Step #95 A = [[ 9.58576679]]\n",
      "Loss = 0.989196\n",
      "Step #100 A = [[ 9.60892677]]\n",
      "Loss = 0.658255\n"
     ]
    }
   ],
   "source": [
    "loss_batch = []\n",
    "# Run Loop\n",
    "for i in range(100):\n",
    "    rand_index = np.random.choice(100, size=batch_size)\n",
    "    rand_x = np.transpose([x_vals[rand_index]])\n",
    "    rand_y = np.transpose([y_vals[rand_index]])\n",
    "    sess.run(train_step, feed_dict={x_data: rand_x, y_target: rand_y})\n",
    "    if (i+1)%5==0:\n",
    "        print('Step #' + str(i+1) + ' A = ' + str(sess.run(A)))\n",
    "        temp_loss = sess.run(loss, feed_dict={x_data: rand_x, y_target: rand_y})\n",
    "        print('Loss = ' + str(temp_loss))\n",
    "        loss_batch.append(temp_loss)"
   ]
  },
  {
   "cell_type": "code",
   "execution_count": null,
   "metadata": {
    "collapsed": true
   },
   "outputs": [],
   "source": []
  }
 ],
 "metadata": {
  "kernelspec": {
   "display_name": "Python 2",
   "language": "python",
   "name": "python2"
  },
  "language_info": {
   "codemirror_mode": {
    "name": "ipython",
    "version": 2
   },
   "file_extension": ".py",
   "mimetype": "text/x-python",
   "name": "python",
   "nbconvert_exporter": "python",
   "pygments_lexer": "ipython2",
   "version": "2.7.13"
  }
 },
 "nbformat": 4,
 "nbformat_minor": 2
}
