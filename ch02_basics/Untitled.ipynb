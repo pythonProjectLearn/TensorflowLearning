{
 "cells": [
  {
   "cell_type": "code",
   "execution_count": null,
   "metadata": {},
   "outputs": [],
   "source": [
    "# 动态图调整"
   ]
  },
  {
   "cell_type": "code",
   "execution_count": 14,
   "metadata": {},
   "outputs": [],
   "source": [
    "import tensorflow as tf\n",
    "import numpy as np"
   ]
  },
  {
   "cell_type": "code",
   "execution_count": 15,
   "metadata": {},
   "outputs": [
    {
     "name": "stdout",
     "output_type": "stream",
     "text": [
      "Tensor(\"Softmax_2:0\", shape=(2, 2), dtype=float32)\n"
     ]
    }
   ],
   "source": [
    "x = tf.random_normal([2,4])\n",
    "h = tf.layers.dense(x, 2, activation=tf.nn.relu)\n",
    "y = tf.nn.softmax(h)\n",
    "print(y)\n",
    "# print(y.numpy) 在jupyter lab中无法提交y.numpy, 但是在ipython中可以提交"
   ]
  },
  {
   "cell_type": "markdown",
   "metadata": {},
   "source": [
    "# 将numpy导入到图中"
   ]
  },
  {
   "cell_type": "code",
   "execution_count": 19,
   "metadata": {},
   "outputs": [],
   "source": [
    "x_np = np.array([[i]*5 for i in range(10)])"
   ]
  },
  {
   "cell_type": "code",
   "execution_count": 21,
   "metadata": {},
   "outputs": [],
   "source": [
    "dataset = tf.data.Dataset.from_tensor_slices(x_np)"
   ]
  },
  {
   "cell_type": "markdown",
   "metadata": {},
   "source": [
    "可以子ipython中打印出来\n",
    "```\n",
    "for el in dataset:\n",
    "    print(el)\n",
    "```"
   ]
  },
  {
   "cell_type": "code",
   "execution_count": null,
   "metadata": {},
   "outputs": [],
   "source": [
    "# 打乱\n",
    "dataset = dataset.shuffle(buffer_size=10)\n",
    "# 重复\n",
    "dataset = dateset.repeat(2)\n",
    "# map\n",
    "dataset = dataset.map(lambda t:  tf.string_split([t], delimiter=' ').values, num_parallel_calls=4)\n",
    "# batch\n",
    "dataset = dataset.batch(batch_size=3)\n"
   ]
  },
  {
   "cell_type": "code",
   "execution_count": null,
   "metadata": {},
   "outputs": [],
   "source": [
    "# 数据补齐\n",
    "def generator():\n",
    "    yield [1,2]\n",
    "    yield [1, 2, 3]\n",
    "    \n",
    "dataset = tf.data.Dataset.from_generator(generator,\n",
    "                                        output_types=(tf.int32),\n",
    "                                        output_shapes=([None]))\n",
    "\n",
    "# 如果dataset中出现数据不对齐的话,用4来补全,结果得到[[1,2,4], [1,2,3]]\n",
    "dataset = dataset.padded_batch(batch_size=2, padded_shapes=([None]), padding_values=(4))"
   ]
  }
 ],
 "metadata": {
  "kernelspec": {
   "display_name": "Python 3",
   "language": "python",
   "name": "python3"
  },
  "language_info": {
   "codemirror_mode": {
    "name": "ipython",
    "version": 3
   },
   "file_extension": ".py",
   "mimetype": "text/x-python",
   "name": "python",
   "nbconvert_exporter": "python",
   "pygments_lexer": "ipython3",
   "version": "3.6.4"
  }
 },
 "nbformat": 4,
 "nbformat_minor": 2
}
